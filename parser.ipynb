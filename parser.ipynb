{
 "cells": [
  {
   "cell_type": "code",
   "execution_count": 1,
   "metadata": {},
   "outputs": [],
   "source": [
    "import yaml\n",
    "import os\n",
    "import pprint"
   ]
  },
  {
   "cell_type": "code",
   "execution_count": 24,
   "metadata": {},
   "outputs": [
    {
     "output_type": "stream",
     "name": "stdout",
     "text": [
      "{'algorithms': [{'name': 'BowtieBuilder', 'params': {'include': True}},\n                {'name': 'PathLinker', 'params': {'include': True, 'k': [500]}},\n                {'name': 'ResponseNet', 'params': {'include': True, 'y': [20]}},\n                {'name': 'PCSF',\n                 'params': {'b': [1],\n                            'g': [3],\n                            'include': True,\n                            'r': [5],\n                            'w': [5]}},\n                {'name': 'ShortestPaths', 'params': {'include': True}},\n                {'name': 'RWR',\n                 'params': {'a': [0.85], 'include': True, 't': [0.3]}}],\n 'augmentation_settings': [{'locations': {'reconstruction_dir': '/path/to/save'}},\n                           {'PRAUG': {'run': True}},\n                           {'ensemble': {'rule': 'Intersection',\n                                         'run': False}}],\n 'evaluation_settings': [{'locations': {'reconstruction_dir': '/path/to/reconstructions'}},\n                         {'PR': {'compute': True,\n                                 'negative_set': 'fixed',\n                                 'open_word': True}}],\n 'pathways': ['Wnt', 'IL-6'],\n 'plot_settings': [{'locations': {'plot_dir': '/path/to/plots',\n                                  'reconstruction_dir': '/path/to/reconstructions'}},\n                   {'plots': [{'name': 'example_plot_1',\n                               'params': ['panel=True',\n                                          'fmax=True',\n                                          'edge=True'],\n                               'type': 'PR'}]}],\n 'reconstruction_settings': [{'locations': {'interactome_path': '/path/to/interactome',\n                                            'pathway_dir': '/path/to/pathways',\n                                            'reconstruction_dir': '/path/to/save'}},\n                             {'run': True}]}\n"
     ]
    }
   ],
   "source": [
    "config = os.path.join('Config-Files', 'config.yaml')\n",
    "with open(config,'r') as g:\n",
    "    conf_params = yaml.safe_load(g)\n",
    "    pprint.pprint(conf_params)"
   ]
  },
  {
   "cell_type": "code",
   "execution_count": 25,
   "metadata": {},
   "outputs": [
    {
     "output_type": "stream",
     "name": "stdout",
     "text": [
      "{'name': 'BowtieBuilder', 'params': {'include': True}}\n{'name': 'PathLinker', 'params': {'include': True, 'k': [500]}}\n{'name': 'ResponseNet', 'params': {'include': True, 'y': [20]}}\n{'name': 'PCSF', 'params': {'include': True, 'r': [5], 'b': [1], 'w': [5], 'g': [3]}}\n{'name': 'ShortestPaths', 'params': {'include': True}}\n{'name': 'RWR', 'params': {'include': True, 'a': [0.85], 't': [0.3]}}\n{'locations': {'interactome_path': '/path/to/interactome', 'pathway_dir': '/path/to/pathways', 'reconstruction_dir': '/path/to/save'}}\n{'run': True}\n"
     ]
    }
   ],
   "source": [
    "for d in conf_params['algorithms']:\n",
    "    print(d)\n",
    "\n",
    "for d in conf_params['reconstruction_settings']:\n",
    "    print(d)"
   ]
  },
  {
   "cell_type": "code",
   "execution_count": 13,
   "metadata": {},
   "outputs": [],
   "source": [
    "class Algorithm:\n",
    "    def __init__(self, d):\n",
    "        self.name = d['name']\n",
    "        self.params = d['params']\n"
   ]
  },
  {
   "cell_type": "code",
   "execution_count": 14,
   "metadata": {},
   "outputs": [
    {
     "output_type": "execute_result",
     "data": {
      "text/plain": [
       "[<__main__.Reconstruction at 0x195dd6a42b0>,\n",
       " <__main__.Reconstruction at 0x195dd6a59d0>,\n",
       " <__main__.Reconstruction at 0x195dd6a5b20>,\n",
       " <__main__.Reconstruction at 0x195dc859100>,\n",
       " <__main__.Reconstruction at 0x195dc859d30>,\n",
       " <__main__.Reconstruction at 0x195dda87730>]"
      ]
     },
     "metadata": {},
     "execution_count": 14
    }
   ],
   "source": [
    "rec_collection = []\n",
    "for d in conf_params['algorithms']:\n",
    "    rec_collection.append(Reconstruction(d))\n",
    "\n",
    "rec_collection"
   ]
  },
  {
   "cell_type": "code",
   "execution_count": 19,
   "metadata": {},
   "outputs": [
    {
     "output_type": "execute_result",
     "data": {
      "text/plain": [
       "{'include': True, 'y': [20]}"
      ]
     },
     "metadata": {},
     "execution_count": 19
    }
   ],
   "source": [
    "rec_collection[2].params"
   ]
  },
  {
   "cell_type": "code",
   "execution_count": null,
   "metadata": {},
   "outputs": [],
   "source": [
    "\n",
    "class Algorithm:\n",
    "    def __init__(self, d):\n",
    "        self.name = d['name']\n",
    "        self.params = d['params']\n",
    "\n",
    "class Reconstruction_Settings:\n",
    "    def __int__(self, d):\n",
    "        self.locations = d['locations']\n",
    "        self.run = d['run']\n",
    "\n",
    "class Pathways:\n",
    "    pass\n",
    "class Augmentation_Settings:\n",
    "    pass\n",
    "class Evaluation_Settings:\n",
    "    pass\n",
    "class Plot_Settings:\n",
    "    pass \n",
    "class Reconstruction:\n",
    "    def __init__(self, config):\n",
    "        self.algorithms\n",
    "        self.reconstruction_settings\n",
    "        self.augmentation_settings\n",
    "        self.evaluation_settings\n",
    "        self.plot_settings\n",
    "\n",
    "\n",
    "    def parse(self, comfig):\n",
    "        self.algorithms = []\n",
    "        for d in config['algorithms']:\n",
    "            self.algorithms.append(Reconstruction(d))\n",
    "\n",
    "        self.reconstruction_settings = []\n",
    "        for d in config['reconstruction_settings']:\n",
    "            self.reconstruction_settings.append(Reconstruction_Settings(d))\n",
    "\n",
    "        self.Augmentation_Settings = []\n",
    "        \n",
    "\n",
    "        \n",
    "\n",
    "\n"
   ]
  }
 ],
 "metadata": {
  "kernelspec": {
   "display_name": "Python 3",
   "language": "python",
   "name": "python3"
  },
  "language_info": {
   "codemirror_mode": {
    "name": "ipython",
    "version": 3
   },
   "file_extension": ".py",
   "mimetype": "text/x-python",
   "name": "python",
   "nbconvert_exporter": "python",
   "pygments_lexer": "ipython3",
   "version": "3.8.3-final"
  },
  "toc": {
   "base_numbering": 1,
   "nav_menu": {},
   "number_sections": true,
   "sideBar": true,
   "skip_h1_title": false,
   "title_cell": "Table of Contents",
   "title_sidebar": "Contents",
   "toc_cell": false,
   "toc_position": {},
   "toc_section_display": true,
   "toc_window_display": false
  }
 },
 "nbformat": 4,
 "nbformat_minor": 4
}